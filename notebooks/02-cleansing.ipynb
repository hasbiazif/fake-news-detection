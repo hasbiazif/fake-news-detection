{
 "cells": [
  {
   "cell_type": "markdown",
   "id": "788964b3",
   "metadata": {},
   "source": [
    "# Langkah 1: Pembersihan Teks  \n",
    "Tujuannya: membuat teks bersih, konsisten, dan siap diolah ke model.  \n",
    "Apa yang akan kita lakukan:  \n",
    "Ubah semua teks menjadi huruf kecil.  \n",
    "Hapus karakter non-alfabet (angka dan tanda baca yang tidak penting).  \n",
    "Hilangkan spasi berlebihan.  \n",
    "Opsional: hilangkan stopwords agar hanya kata penting yang tersisa."
   ]
  },
  {
   "cell_type": "code",
   "execution_count": null,
   "id": "bf66b10e",
   "metadata": {},
   "outputs": [],
   "source": []
  }
 ],
 "metadata": {
  "language_info": {
   "name": "python"
  }
 },
 "nbformat": 4,
 "nbformat_minor": 5
}
